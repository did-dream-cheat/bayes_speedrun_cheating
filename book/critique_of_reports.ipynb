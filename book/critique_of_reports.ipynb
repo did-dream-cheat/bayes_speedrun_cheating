{
 "cells": [
  {
   "cell_type": "markdown",
   "metadata": {},
   "source": [
    "# A Critique of the Reports\n",
    "\n",
    "## Minecraft Speedrunning Team\n",
    "\n",
    "The [MST report](https://mcspeedrun.com/dream.pdf) is quite good. The authors go into extensive detail on how Blaze rod drops and Pigmen barters for Ender pearls work, to the point of analyzing how random numbers are generated within Minecraft. They compare Dream's performance to other runners, which is vital to help rule out flaws in your analysis. If the analysis shows *all* of the top players are cheating, then either cheating is rampant or something is wrong with your analysis. The report goes into quite a bit of detail on the methods used, and shares code to help with reproducibility. I believe it is a good attempt to \"present \\[an\\] unbiased, rigorous statistical analysis of the data\" (pg. 4).\n",
    "\n",
    "The biggest flaw with the report is the reliance on p-values to generate its conclusions. I have summarized [many critiques of that statistic elsewhere](https://freethoughtblogs.com/reprobate/2015/12/17/index-post-p-values/), but two points are worth covering in detail here."
   ]
  },
  {
   "cell_type": "markdown",
   "metadata": {},
   "source": [
    "### P-values are Not What You Think\n",
    "\n",
    "This is the definition of the p-value:{cite}`doi:10.7326/0003-4819-130-12-199906150-00008`\n",
    "\n",
    "> If we assume the null hypothesis is true, and draw an infinite amount of data like what has been observed, what proportion of time would the calculated test metric be equal to or more extreme than the test metric predicted by the null hypothesis?\n",
    "\n",
    "```{margin} Modus Tollens\n",
    "* If A is true, B is true.\n",
    "* B is false.\n",
    "* Ergo, A is false.\n",
    "```\n",
    "\n",
    "On its surface, it's a very strange metric. Why are we basing our decision on data we have not and will never observe? What counts as \"extreme\"? The core logic relies on both [modus tollens](https://mathworld.wolfram.com/ModusTollens.html) and [the central limit theorem](https://sphweb.bumc.bu.edu/otlt/MPH-Modules/BS/BS704_Probability/BS704_Probability12.html), which are usually correct but not always so.{cite}`cohen_earth_1994,vanderplas_frequentism_2014` \n",
    "\n",
    "```{margin} Central Limit Theorem\n",
    "The means of sufficiently large samples taken from a larger population will follow a Gaussian distribution centred at the population mean.\n",
    "```\n",
    "\n",
    "P-values are not a probability of the null hypothesis being incorrect and cannot be treated as such, yet the MST report declares their final p-value to be an \"upper bound on the chance\" of Dream getting that lucky (pg. 22). The text which popularized the p-value encourages this mistake.\n",
    "\n",
    "> When a number of quite independent tests of significance have been made, it sometimes happens that although few or none can be claimed individually as significant, yet the aggregate gives an impression that the probabilities are on the whole lower than would often have been obtained by chance. It is sometimes desired, taking account only of these\n",
    "probabilities, and not of the detailed composition of the data from which they are derived, which may be of very different kinds, to obtain a single test of the significance of the aggregate, based on the product of the probabilities individually observed. (pg. 103){cite}`fisher1934statistical`\n",
    "\n",
    "It is often not clear that Sir Ronald Fisher is talking about the odds of calculating a test statistic more extreme than data generated according to the null hypothesis, rather than the odds of the null hypothesis being true. Few people understand the p-value, and even experts can misinterpret it.\n",
    "\n",
    "> In a recent survey of medical residents published in JAMA, 88% expressed fair to complete confidence in interpreting P values, yet only 62% of these could answer an elementary P-value interpretation question correctly. However, it is not just those statistics that testify to the difficulty in interpreting P values. In an exquisite irony, none of the answers offered for the P-value question was correct $\\dots$ {cite}`GOODMAN2008135`"
   ]
  }
 ],
 "metadata": {
  "kernelspec": {
   "display_name": "Python 3",
   "language": "python",
   "name": "python3"
  },
  "language_info": {
   "codemirror_mode": {
    "name": "ipython",
    "version": 3
   },
   "file_extension": ".py",
   "mimetype": "text/x-python",
   "name": "python",
   "nbconvert_exporter": "python",
   "pygments_lexer": "ipython3",
   "version": "3.8.6"
  }
 },
 "nbformat": 4,
 "nbformat_minor": 4
}
